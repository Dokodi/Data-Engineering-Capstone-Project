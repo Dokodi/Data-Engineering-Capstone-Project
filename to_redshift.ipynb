{
 "cells": [
  {
   "cell_type": "code",
   "execution_count": 1,
   "metadata": {},
   "outputs": [
    {
     "name": "stdout",
     "output_type": "stream",
     "text": [
      "Collecting psycopg2-binary\n",
      "  Downloading psycopg2_binary-2.9.9-cp311-cp311-win_amd64.whl.metadata (4.6 kB)\n",
      "Downloading psycopg2_binary-2.9.9-cp311-cp311-win_amd64.whl (1.2 MB)\n",
      "   ---------------------------------------- 0.0/1.2 MB ? eta -:--:--\n",
      "   - -------------------------------------- 0.0/1.2 MB 1.9 MB/s eta 0:00:01\n",
      "   --- ------------------------------------ 0.1/1.2 MB 1.6 MB/s eta 0:00:01\n",
      "   ---- ----------------------------------- 0.1/1.2 MB 1.2 MB/s eta 0:00:01\n",
      "   ------ --------------------------------- 0.2/1.2 MB 1.2 MB/s eta 0:00:01\n",
      "   --------- ------------------------------ 0.3/1.2 MB 1.4 MB/s eta 0:00:01\n",
      "   ------------ --------------------------- 0.4/1.2 MB 1.4 MB/s eta 0:00:01\n",
      "   ------------ --------------------------- 0.4/1.2 MB 1.4 MB/s eta 0:00:01\n",
      "   ------------ --------------------------- 0.4/1.2 MB 1.4 MB/s eta 0:00:01\n",
      "   ------------- -------------------------- 0.4/1.2 MB 933.2 kB/s eta 0:00:01\n",
      "   ------------- -------------------------- 0.4/1.2 MB 933.2 kB/s eta 0:00:01\n",
      "   ------------- -------------------------- 0.4/1.2 MB 933.2 kB/s eta 0:00:01\n",
      "   ------------- -------------------------- 0.4/1.2 MB 933.2 kB/s eta 0:00:01\n",
      "   ------------- -------------------------- 0.4/1.2 MB 933.2 kB/s eta 0:00:01\n",
      "   ------------- -------------------------- 0.4/1.2 MB 933.2 kB/s eta 0:00:01\n",
      "   ------------- -------------------------- 0.4/1.2 MB 933.2 kB/s eta 0:00:01\n",
      "   ------------- -------------------------- 0.4/1.2 MB 553.5 kB/s eta 0:00:02\n",
      "   -------------- ------------------------- 0.4/1.2 MB 546.1 kB/s eta 0:00:02\n",
      "   --------------- ------------------------ 0.5/1.2 MB 541.6 kB/s eta 0:00:02\n",
      "   ---------------- ----------------------- 0.5/1.2 MB 556.5 kB/s eta 0:00:02\n",
      "   ----------------- ---------------------- 0.5/1.2 MB 542.5 kB/s eta 0:00:02\n",
      "   ----------------- ---------------------- 0.5/1.2 MB 542.5 kB/s eta 0:00:02\n",
      "   ------------------- -------------------- 0.6/1.2 MB 542.7 kB/s eta 0:00:02\n",
      "   ---------------------- ----------------- 0.6/1.2 MB 606.4 kB/s eta 0:00:01\n",
      "   ----------------------- ---------------- 0.7/1.2 MB 635.8 kB/s eta 0:00:01\n",
      "   ----------------------- ---------------- 0.7/1.2 MB 635.8 kB/s eta 0:00:01\n",
      "   --------------------------- ------------ 0.8/1.2 MB 681.5 kB/s eta 0:00:01\n",
      "   ----------------------------- ---------- 0.8/1.2 MB 680.5 kB/s eta 0:00:01\n",
      "   ------------------------------ --------- 0.9/1.2 MB 695.6 kB/s eta 0:00:01\n",
      "   -------------------------------- ------- 0.9/1.2 MB 709.7 kB/s eta 0:00:01\n",
      "   ---------------------------------- ----- 1.0/1.2 MB 723.4 kB/s eta 0:00:01\n",
      "   ----------------------------------- ---- 1.0/1.2 MB 743.5 kB/s eta 0:00:01\n",
      "   ------------------------------------ --- 1.1/1.2 MB 742.9 kB/s eta 0:00:01\n",
      "   ------------------------------------ --- 1.1/1.2 MB 742.9 kB/s eta 0:00:01\n",
      "   ------------------------------------ --- 1.1/1.2 MB 710.0 kB/s eta 0:00:01\n",
      "   -------------------------------------- - 1.1/1.2 MB 694.3 kB/s eta 0:00:01\n",
      "   ---------------------------------------  1.2/1.2 MB 705.8 kB/s eta 0:00:01\n",
      "   ---------------------------------------- 1.2/1.2 MB 702.9 kB/s eta 0:00:00\n",
      "Installing collected packages: psycopg2-binary\n",
      "Successfully installed psycopg2-binary-2.9.9\n",
      "Note: you may need to restart the kernel to use updated packages.\n"
     ]
    }
   ],
   "source": [
    "pip install psycopg2-binary"
   ]
  },
  {
   "cell_type": "code",
   "execution_count": 2,
   "metadata": {},
   "outputs": [],
   "source": [
    "import boto3\n",
    "import psycopg2"
   ]
  },
  {
   "cell_type": "code",
   "execution_count": null,
   "metadata": {},
   "outputs": [],
   "source": [
    "import json\n",
    "\n",
    "with open('creds.json') as config_file:\n",
    "    config = json.load(config_file)\n",
    "    access_key = config['aws_access_key_id']\n",
    "    secret_key = config['aws_secret_access_key']\n",
    "    api_access_key = config['api_key']\n"
   ]
  },
  {
   "cell_type": "code",
   "execution_count": null,
   "metadata": {},
   "outputs": [],
   "source": [
    "bucket_name = \"capstone-etl-bucket\"\n",
    "csv_file_path = \"weather_data.csv\"\n",
    "s3_key = \"weather_today\"\n",
    "aws_s3_region = \"us-east-1\""
   ]
  },
  {
   "cell_type": "code",
   "execution_count": null,
   "metadata": {},
   "outputs": [],
   "source": [
    "# Define AWS and Redshift connection details\n",
    "AWS_ACCESS_KEY = access_key\n",
    "AWS_SECRET_KEY = secret_key\n",
    "REDSHIFT_HOST = 'capstone-project.cedwcaggje2k.us-east-1.redshift.amazonaws.com:5439/mydb'\n",
    "REDSHIFT_PORT = '5439'\n",
    "REDSHIFT_DBNAME = 'mydb'\n",
    "REDSHIFT_USER = 'dokes'\n",
    "REDSHIFT_PASSWORD = 'Password1002'\n",
    "IAM_ROLE = 'dokes'"
   ]
  },
  {
   "cell_type": "code",
   "execution_count": null,
   "metadata": {},
   "outputs": [],
   "source": [
    "# S3 bucket details\n",
    "S3_BUCKET = bucket_name\n",
    "S3_KEY = s3_key\n",
    "REGION =   aws_s3_region\n",
    "\n",
    "# Redshift table details\n",
    "TABLE_NAME = 'your_redshift_table_name'\n",
    "\n",
    "# Establish connection to Redshift\n",
    "try:\n",
    "    conn = psycopg2.connect(\n",
    "        dbname=REDSHIFT_DBNAME,\n",
    "        user=REDSHIFT_USER,\n",
    "        password=REDSHIFT_PASSWORD,\n",
    "        host=REDSHIFT_HOST,\n",
    "        port=REDSHIFT_PORT\n",
    "    )\n",
    "    print(\"Connected to Redshift successfully!\")\n",
    "except Exception as e:\n",
    "    print(f\"Unable to connect to Redshift: {e}\")\n",
    "\n",
    "# Create a cursor object\n",
    "cur = conn.cursor()\n",
    "\n",
    "# Construct the COPY command\n",
    "copy_command = f\"\"\"\n",
    "COPY {TABLE_NAME}\n",
    "FROM 's3://{S3_BUCKET}/{S3_KEY}'\n",
    "IAM_ROLE '{IAM_ROLE}'\n",
    "REGION '{REGION}'\n",
    "FORMAT AS CSV\n",
    "IGNOREHEADER 1\n",
    "\"\"\"\n",
    "\n",
    "# Execute the COPY command\n",
    "try:\n",
    "    cur.execute(copy_command)\n",
    "    conn.commit()\n",
    "    print(\"Data copied to Redshift successfully!\")\n",
    "except Exception as e:\n",
    "    conn.rollback()\n",
    "    print(f\"Error executing COPY command: {e}\")\n",
    "\n",
    "# Close the cursor and connection\n",
    "cur.close()\n",
    "conn.close()"
   ]
  }
 ],
 "metadata": {
  "kernelspec": {
   "display_name": "Python 3",
   "language": "python",
   "name": "python3"
  },
  "language_info": {
   "codemirror_mode": {
    "name": "ipython",
    "version": 3
   },
   "file_extension": ".py",
   "mimetype": "text/x-python",
   "name": "python",
   "nbconvert_exporter": "python",
   "pygments_lexer": "ipython3",
   "version": "3.11.4"
  }
 },
 "nbformat": 4,
 "nbformat_minor": 2
}
