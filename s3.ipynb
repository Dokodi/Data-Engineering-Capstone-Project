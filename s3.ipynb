{
 "cells": [
  {
   "cell_type": "code",
   "execution_count": 53,
   "metadata": {},
   "outputs": [],
   "source": [
    "import boto3\n",
    "import zipfile\n",
    "import os"
   ]
  },
  {
   "cell_type": "code",
   "execution_count": 54,
   "metadata": {},
   "outputs": [],
   "source": [
    "AWSsession = boto3.Session(\n",
    "    aws_access_key_id='YOUR_AWS_ACCESS_KEY',\n",
    "    aws_secret_access_key='YOUR_AWS_SECRET_ACCESS_KEY',\n",
    "    region_name='eu-north-1'\n",
    ")\n",
    "s3_client = AWSsession.client('s3')"
   ]
  },
  {
   "cell_type": "code",
   "execution_count": 55,
   "metadata": {},
   "outputs": [
    {
     "name": "stdout",
     "output_type": "stream",
     "text": [
      "Bucket created successfully.\n"
     ]
    }
   ],
   "source": [
    "bucket_name = \"my-flight-data\"\n",
    "\n",
    "create_bucket_config = {\n",
    "    'LocationConstraint': 'eu-north-1'\n",
    "}\n",
    "\n",
    "s3_client.create_bucket(Bucket=bucket_name, CreateBucketConfiguration=create_bucket_config)\n",
    "\n",
    "print(\"Bucket created successfully.\")\n"
   ]
  },
  {
   "cell_type": "code",
   "execution_count": 56,
   "metadata": {},
   "outputs": [],
   "source": [
    "def zip_file(source_file, destination_file):\n",
    "    with zipfile.ZipFile(destination_file, 'w') as zipf:\n",
    "        zipf.write(source_file, os.path.basename(source_file))"
   ]
  },
  {
   "cell_type": "code",
   "execution_count": 57,
   "metadata": {},
   "outputs": [],
   "source": [
    "csv_file_path = \"flight_data.csv\"\n"
   ]
  },
  {
   "cell_type": "code",
   "execution_count": 58,
   "metadata": {},
   "outputs": [],
   "source": [
    "zipped_file_name = \"flight_data.zip\""
   ]
  },
  {
   "cell_type": "code",
   "execution_count": 59,
   "metadata": {},
   "outputs": [],
   "source": [
    "zip_file(csv_file_path, zipped_file_name)"
   ]
  },
  {
   "cell_type": "code",
   "execution_count": 60,
   "metadata": {},
   "outputs": [
    {
     "name": "stdout",
     "output_type": "stream",
     "text": [
      "CSV file zipped and uploaded to S3 successfully.\n"
     ]
    }
   ],
   "source": [
    "s3_client.upload_file(zipped_file_name, bucket_name, zipped_file_name)\n",
    "#os.remove(zipped_file_name)\n",
    "print(\"CSV file zipped and uploaded to S3 successfully.\")\n"
   ]
  },
  {
   "cell_type": "code",
   "execution_count": null,
   "metadata": {},
   "outputs": [],
   "source": [
    "# COPY FILE FROM S3 TO REDSHIFT"
   ]
  },
  {
   "cell_type": "code",
   "execution_count": 61,
   "metadata": {},
   "outputs": [],
   "source": [
    "import psycopg2\n",
    "import logging"
   ]
  },
  {
   "cell_type": "code",
   "execution_count": 62,
   "metadata": {},
   "outputs": [],
   "source": [
    "def extract_csv_from_zip(zip_file_path):\n",
    "    with zipfile.ZipFile(zip_file_path, 'r') as zip_ref:\n",
    "        zip_ref.extractall('flight_data')"
   ]
  },
  {
   "cell_type": "code",
   "execution_count": 63,
   "metadata": {},
   "outputs": [],
   "source": [
    "def upload_csv_to_s3(csv_path):\n",
    "    s3 = boto3.client('s3', aws_access_key_id=\"YOUR_AWS_ACCESS_KEY\",\n",
    "                       aws_secret_access_key=\"YOUR_AWS_SECRET_ACCESS_KEY\",\n",
    "                         region_name=\"eu-north-1\"\n",
    "                    )\n",
    "    \n",
    "    with open(csv_path, 'rb') as data:\n",
    "        s3.upload_fileobj(data, bucket_name, csv_file_path)"
   ]
  },
  {
   "cell_type": "code",
   "execution_count": 64,
   "metadata": {},
   "outputs": [],
   "source": [
    "extract_csv_from_zip('flight_data.zip')"
   ]
  },
  {
   "cell_type": "code",
   "execution_count": 65,
   "metadata": {},
   "outputs": [],
   "source": [
    "upload_csv_to_s3('flight_data/flight_data.csv')"
   ]
  },
  {
   "cell_type": "code",
   "execution_count": 66,
   "metadata": {},
   "outputs": [],
   "source": [
    "try:\n",
    "    con = psycopg2.connect(\n",
    "        dbname = \"YOUR_REDSHIFT_DB_NAME\",\n",
    "        host = \"YOUR_REDSHIFT_HOST_NAME\",\n",
    "        port = \"5439\",\n",
    "        user = \"YOUR_REDSHIFT_USER_NAME\",\n",
    "        password = \"YOUR_REDSHIFT_PASSWORD\"\n",
    "    )\n",
    "    logging.info('Redshift connection successful')\n",
    "except Exception as e:\n",
    "    logging.exception(e)    "
   ]
  },
  {
   "cell_type": "code",
   "execution_count": 67,
   "metadata": {},
   "outputs": [],
   "source": [
    "con.autocommit = True"
   ]
  },
  {
   "cell_type": "code",
   "execution_count": 68,
   "metadata": {},
   "outputs": [],
   "source": [
    "cur = con.cursor()"
   ]
  },
  {
   "cell_type": "code",
   "execution_count": 69,
   "metadata": {},
   "outputs": [],
   "source": [
    "create_schema_query = \"\"\"\n",
    "CREATE SCHEMA IF NOT EXISTS flight_schema;\n",
    "\"\"\"\n",
    "cur.execute(create_schema_query)\n",
    "con.commit()"
   ]
  },
  {
   "cell_type": "code",
   "execution_count": 70,
   "metadata": {},
   "outputs": [],
   "source": [
    "create_table_query = \"\"\"\n",
    "CREATE TABLE IF NOT EXISTS flight_schema.flight (\n",
    "    flight_date VARCHAR(255),\n",
    "    flight_status VARCHAR(255),\n",
    "    aircraft VARCHAR(255),\n",
    "    live VARCHAR(255),\n",
    "    departure_airport VARCHAR(255),\n",
    "    departure_timezone VARCHAR(255),\n",
    "    departure_iata VARCHAR(255),\n",
    "    departure_icao VARCHAR(255),\n",
    "    departure_terminal VARCHAR(255),\n",
    "    departure_gate VARCHAR(255),\n",
    "    departure_delay VARCHAR(255),\n",
    "    departure_scheduled VARCHAR(255),\n",
    "    departure_estimated VARCHAR(255),\n",
    "    departure_actual VARCHAR(255),\n",
    "    departure_estimated_runway VARCHAR(255),\n",
    "    departure_actual_runway VARCHAR(255),\n",
    "    arrival_airport VARCHAR(255),\n",
    "    arrival_timezone VARCHAR(255),\n",
    "    arrival_iata VARCHAR(255),\n",
    "    arrival_icao VARCHAR(255),\n",
    "    arrival_terminal VARCHAR(255),\n",
    "    arrival_gate VARCHAR(255),\n",
    "    arrival_baggage VARCHAR(255),\n",
    "    arrival_delay VARCHAR(255),\n",
    "    arrival_scheduled VARCHAR(255),\n",
    "    arrival_estimated VARCHAR(255),\n",
    "    arrival_actual VARCHAR(255),\n",
    "    arrival_estimated_runway VARCHAR(255),\n",
    "    arrival_actual_runway VARCHAR(255),\n",
    "    airline_name VARCHAR(255),\n",
    "    airline_iata VARCHAR(255),\n",
    "    airline_icao VARCHAR(255),\n",
    "    flight_number VARCHAR(255),\n",
    "    flight_iata VARCHAR(255),\n",
    "    flight_icao VARCHAR(255),\n",
    "    codeshared_airline_name VARCHAR(255),\n",
    "    codeshared_airline_iata VARCHAR(255),\n",
    "    codeshared_airline_icao VARCHAR(255),\n",
    "    codeshared_flight_number VARCHAR(255),\n",
    "    codeshared_flight_iata VARCHAR(255),\n",
    "    codeshared_flight_icao VARCHAR(255)\n",
    ");\n",
    "\"\"\"\n",
    "cur.execute(create_table_query)\n",
    "con.commit()"
   ]
  },
  {
   "cell_type": "code",
   "execution_count": 72,
   "metadata": {},
   "outputs": [],
   "source": [
    "copy_command = \"\"\"\n",
    "COPY flight_schema.flight\n",
    "FROM 's3://my-flight-data/flight_data.csv'\n",
    "IAM_ROLE 'YOUR_ARN'\n",
    "IGNOREHEADER 1\n",
    "DELIMITER ','\n",
    "CSV\n",
    "REGION 'eu-north-1';\n",
    "\"\"\"\n",
    "cur.execute(copy_command)\n",
    "con.commit()"
   ]
  },
  {
   "cell_type": "code",
   "execution_count": 73,
   "metadata": {},
   "outputs": [
    {
     "name": "stdout",
     "output_type": "stream",
     "text": [
      "Data loaded into Redshift successfully.\n"
     ]
    }
   ],
   "source": [
    "cur.close()\n",
    "con.close()\n",
    "\n",
    "print(\"Data loaded into Redshift successfully.\")"
   ]
  }
 ],
 "metadata": {
  "kernelspec": {
   "display_name": "flight",
   "language": "python",
   "name": "python3"
  },
  "language_info": {
   "codemirror_mode": {
    "name": "ipython",
    "version": 3
   },
   "file_extension": ".py",
   "mimetype": "text/x-python",
   "name": "python",
   "nbconvert_exporter": "python",
   "pygments_lexer": "ipython3",
   "version": "3.11.7"
  },
  "orig_nbformat": 4
 },
 "nbformat": 4,
 "nbformat_minor": 2
}
