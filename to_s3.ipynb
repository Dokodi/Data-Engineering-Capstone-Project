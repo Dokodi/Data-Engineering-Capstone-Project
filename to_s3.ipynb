{
 "cells": [
  {
   "cell_type": "code",
   "execution_count": 1,
   "metadata": {},
   "outputs": [],
   "source": [
    "import boto3\n",
    "import zipfile\n",
    "import os\n",
    "import json"
   ]
  },
  {
   "cell_type": "code",
   "execution_count": 9,
   "metadata": {},
   "outputs": [],
   "source": [
    "import json\n",
    "\n",
    "with open('creds.json') as config_file:\n",
    "    config = json.load(config_file)\n",
    "    access_key = config['aws_access_key_id']\n",
    "    secret_key = config['aws_secret_access_key']\n",
    "    api_access_key = config['api_key']\n"
   ]
  },
  {
   "cell_type": "code",
   "execution_count": 11,
   "metadata": {},
   "outputs": [],
   "source": [
    "AWSsession = boto3.Session(\n",
    "    aws_access_key_id= access_key,\n",
    "    aws_secret_access_key= secret_key,\n",
    "    region_name='us-east-1'\n",
    ")\n",
    "s3_client = AWSsession.client('s3')"
   ]
  },
  {
   "cell_type": "code",
   "execution_count": 5,
   "metadata": {},
   "outputs": [],
   "source": [
    "s3_client = AWSsession.client('s3')"
   ]
  },
  {
   "cell_type": "code",
   "execution_count": 15,
   "metadata": {},
   "outputs": [
    {
     "name": "stdout",
     "output_type": "stream",
     "text": [
      "File 'weather_data.csv' uploaded to 'capstone-etl-bucket'\n"
     ]
    }
   ],
   "source": [
    "bucket_name = \"capstone-etl-bucket\"\n",
    "csv_file_path = \"weather_data.csv\"\n",
    "s3_name = \"weather_today\"\n",
    "\n",
    "\n",
    "try:\n",
    "    s3_client.upload_file(csv_file_path, bucket_name, s3_name)\n",
    "    print(f\"File '{csv_file_path}' uploaded to '{bucket_name}'\")\n",
    "except Exception as e:\n",
    "    print(f\"Error uploading file: {e}\")"
   ]
  }
 ],
 "metadata": {
  "kernelspec": {
   "display_name": "Python 3",
   "language": "python",
   "name": "python3"
  },
  "language_info": {
   "codemirror_mode": {
    "name": "ipython",
    "version": 3
   },
   "file_extension": ".py",
   "mimetype": "text/x-python",
   "name": "python",
   "nbconvert_exporter": "python",
   "pygments_lexer": "ipython3",
   "version": "3.11.4"
  }
 },
 "nbformat": 4,
 "nbformat_minor": 2
}
