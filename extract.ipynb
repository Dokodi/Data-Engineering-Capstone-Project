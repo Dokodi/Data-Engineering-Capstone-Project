{
 "cells": [
  {
   "cell_type": "code",
   "execution_count": 1,
   "metadata": {},
   "outputs": [],
   "source": [
    "import requests\n",
    "import pandas as pd\n",
    "import botocore\n",
    "import boto3\n",
    "from botocore.exceptions import NoCredentialsError\n",
    "import json"
   ]
  },
  {
   "cell_type": "code",
   "execution_count": 2,
   "metadata": {},
   "outputs": [],
   "source": [
    "import json\n",
    "\n",
    "with open('creds.json') as config_file:\n",
    "    config = json.load(config_file)\n",
    "    access_key = config['aws_access_key_id']\n",
    "    secret_key = config['aws_secret_access_key']\n",
    "    api_access_key = config['api_key']\n"
   ]
  },
  {
   "cell_type": "code",
   "execution_count": 3,
   "metadata": {},
   "outputs": [
    {
     "name": "stdout",
     "output_type": "stream",
     "text": [
      "Received Response\n"
     ]
    }
   ],
   "source": [
    "api_url = 'https://api.openweathermap.org/data/2.5/weather?lat=6.99&lon=0.29&appid='+api_access_key\n",
    "\n",
    "api_result = requests.get(api_url)\n",
    "\n",
    "\n",
    "if api_result.status_code == 200:\n",
    "    api_response = api_result.json()\n",
    "    print(\"Received Response\")\n",
    "\n",
    "else:\n",
    "    print(f\"Failed to retrieve data: Error Code is {api_result.status_code}\")"
   ]
  },
  {
   "cell_type": "code",
   "execution_count": 4,
   "metadata": {},
   "outputs": [],
   "source": [
    "data = api_result.json()\n"
   ]
  },
  {
   "cell_type": "code",
   "execution_count": 5,
   "metadata": {},
   "outputs": [],
   "source": [
    "weather_info = {\n",
    "    'lon': api_response['coord']['lon'],\n",
    "    'lat': api_response['coord']['lat'],\n",
    "    'temp': api_response['main']['temp'],\n",
    "    'feels_like': api_response['main']['feels_like'],\n",
    "    'humidity': api_response['main']['humidity'],\n",
    "    'pressure': api_response['main']['pressure'],\n",
    "    'wind_speed': api_response['wind']['speed'],\n",
    "    'cloudiness': api_response['clouds']['all'],\n",
    "    'country': api_response['sys']['country'],\n",
    "    'name': api_response['name']\n",
    "}\n",
    "\n",
    "df = pd.DataFrame([weather_info])"
   ]
  },
  {
   "cell_type": "code",
   "execution_count": 6,
   "metadata": {},
   "outputs": [],
   "source": [
    "df  = pd.DataFrame(weather_info, index=[0])\n"
   ]
  },
  {
   "cell_type": "code",
   "execution_count": 7,
   "metadata": {},
   "outputs": [
    {
     "data": {
      "text/html": [
       "<div>\n",
       "<style scoped>\n",
       "    .dataframe tbody tr th:only-of-type {\n",
       "        vertical-align: middle;\n",
       "    }\n",
       "\n",
       "    .dataframe tbody tr th {\n",
       "        vertical-align: top;\n",
       "    }\n",
       "\n",
       "    .dataframe thead th {\n",
       "        text-align: right;\n",
       "    }\n",
       "</style>\n",
       "<table border=\"1\" class=\"dataframe\">\n",
       "  <thead>\n",
       "    <tr style=\"text-align: right;\">\n",
       "      <th></th>\n",
       "      <th>lon</th>\n",
       "      <th>lat</th>\n",
       "      <th>temp</th>\n",
       "      <th>feels_like</th>\n",
       "      <th>humidity</th>\n",
       "      <th>pressure</th>\n",
       "      <th>wind_speed</th>\n",
       "      <th>cloudiness</th>\n",
       "      <th>country</th>\n",
       "      <th>name</th>\n",
       "    </tr>\n",
       "  </thead>\n",
       "  <tbody>\n",
       "    <tr>\n",
       "      <th>0</th>\n",
       "      <td>0.29</td>\n",
       "      <td>6.99</td>\n",
       "      <td>303.38</td>\n",
       "      <td>306.43</td>\n",
       "      <td>60</td>\n",
       "      <td>1013</td>\n",
       "      <td>2.26</td>\n",
       "      <td>75</td>\n",
       "      <td>GH</td>\n",
       "      <td>Kpandu</td>\n",
       "    </tr>\n",
       "  </tbody>\n",
       "</table>\n",
       "</div>"
      ],
      "text/plain": [
       "    lon   lat    temp  feels_like  humidity  pressure  wind_speed  cloudiness  \\\n",
       "0  0.29  6.99  303.38      306.43        60      1013        2.26          75   \n",
       "\n",
       "  country    name  \n",
       "0      GH  Kpandu  "
      ]
     },
     "execution_count": 7,
     "metadata": {},
     "output_type": "execute_result"
    }
   ],
   "source": [
    "df"
   ]
  },
  {
   "cell_type": "code",
   "execution_count": 16,
   "metadata": {},
   "outputs": [],
   "source": [
    "df.to_csv('weather_data.csv', index=False)"
   ]
  }
 ],
 "metadata": {
  "kernelspec": {
   "display_name": "Python 3",
   "language": "python",
   "name": "python3"
  },
  "language_info": {
   "codemirror_mode": {
    "name": "ipython",
    "version": 3
   },
   "file_extension": ".py",
   "mimetype": "text/x-python",
   "name": "python",
   "nbconvert_exporter": "python",
   "pygments_lexer": "ipython3",
   "version": "3.11.4"
  }
 },
 "nbformat": 4,
 "nbformat_minor": 2
}
